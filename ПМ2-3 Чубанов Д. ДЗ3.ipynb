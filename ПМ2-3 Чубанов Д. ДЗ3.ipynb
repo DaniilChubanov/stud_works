{
 "cells": [
  {
   "cell_type": "code",
   "execution_count": 1,
   "metadata": {},
   "outputs": [],
   "source": [
    "import pandas as pd\n",
    "import scipy\n",
    "import scipy.integrate as integrate\n",
    "import math\n",
    "import numpy as np\n",
    "import matplotlib.pyplot as plt \n",
    "import seaborn as sns\n",
    "import pylab\n",
    "from matplotlib import mlab\n",
    "import sympy\n",
    "from sympy import diff\n",
    "from sympy import *\n",
    "x, y, z = symbols('x y z')\n",
    "init_printing(use_unicode=True)\n",
    "\n",
    "a=2\n",
    "b=0\n",
    "N=10*a+b"
   ]
  },
  {
   "cell_type": "code",
   "execution_count": 3,
   "metadata": {},
   "outputs": [
    {
     "name": "stderr",
     "output_type": "stream",
     "text": [
      "/anaconda3/lib/python3.7/site-packages/ipykernel_launcher.py:12: MatplotlibDeprecationWarning: numpy.arange\n",
      "  if sys.path[0] == '':\n"
     ]
    },
    {
     "data": {
      "image/png": "[encoded data removed]",
      "text/plain": [
       "<Figure size 432x288 with 1 Axes>"
      ]
     },
     "metadata": {
      "needs_background": "light"
     },
     "output_type": "display_data"
    }
   ],
   "source": [
    "#Зададим нашу функцию\n",
    "def func (x):\n",
    "#     return math.sin((1+0.1*(a-1)*x))/(b+5+x)\n",
    "    return (2*x**4+1)\n",
    "\n",
    "# Интервал изменения переменной по оси X\n",
    "xmin = 0\n",
    "xmax = 1\n",
    "# Шаг между точками\n",
    "dx = 0.007\n",
    "#Создадим список координат по оси X на отрезке [-xmin; xmax], включая концы\n",
    "xlist = mlab.frange (xmin, xmax, dx)\n",
    "# Вычислим значение функции в заданных точках\n",
    "ylist = [func(x) for x in xlist]\n",
    "\n",
    "#Нарисуем наш график\n",
    "pylab.plot(xlist, ylist)\n",
    "pylab.show()"
   ]
  },
  {
   "cell_type": "markdown",
   "metadata": {},
   "source": [
    "## Найдем производные "
   ]
  },
  {
   "cell_type": "code",
   "execution_count": 9,
   "metadata": {},
   "outputs": [
    {
     "name": "stdout",
     "output_type": "stream",
     "text": [
      "(-16*x**4*sin(x**2 + 0.6)*cos(0.8*x + 1.2)/(sin(x**2 + 0.6) + 1.5) + 96*x**4*sin(x**2 + 0.6)**2*cos(0.8*x + 1.2)/(sin(x**2 + 0.6) + 1.5)**2 - 128*x**4*cos(0.8*x + 1.2)*cos(x**2 + 0.6)**2/(sin(x**2 + 0.6) + 1.5)**2 + 576*x**4*sin(x**2 + 0.6)*cos(0.8*x + 1.2)*cos(x**2 + 0.6)**2/(sin(x**2 + 0.6) + 1.5)**3 + 384*x**4*cos(0.8*x + 1.2)*cos(x**2 + 0.6)**4/(sin(x**2 + 0.6) + 1.5)**4 - 25.6*x**3*sin(0.8*x + 1.2)*cos(x**2 + 0.6)/(sin(x**2 + 0.6) + 1.5) + 153.6*x**3*sin(0.8*x + 1.2)*sin(x**2 + 0.6)*cos(x**2 + 0.6)/(sin(x**2 + 0.6) + 1.5)**2 + 153.6*x**3*sin(0.8*x + 1.2)*cos(x**2 + 0.6)**3/(sin(x**2 + 0.6) + 1.5)**3 - 15.36*x**2*sin(x**2 + 0.6)*cos(0.8*x + 1.2)/(sin(x**2 + 0.6) + 1.5) + 48*x**2*cos(0.8*x + 1.2)*cos(x**2 + 0.6)/(sin(x**2 + 0.6) + 1.5) - 288*x**2*sin(x**2 + 0.6)*cos(0.8*x + 1.2)*cos(x**2 + 0.6)/(sin(x**2 + 0.6) + 1.5)**2 - 30.72*x**2*cos(0.8*x + 1.2)*cos(x**2 + 0.6)**2/(sin(x**2 + 0.6) + 1.5)**2 - 288*x**2*cos(0.8*x + 1.2)*cos(x**2 + 0.6)**3/(sin(x**2 + 0.6) + 1.5)**3 - 38.4*x*sin(0.8*x + 1.2)*sin(x**2 + 0.6)/(sin(x**2 + 0.6) + 1.5) - 4.096*x*sin(0.8*x + 1.2)*cos(x**2 + 0.6)/(sin(x**2 + 0.6) + 1.5) - 76.8*x*sin(0.8*x + 1.2)*cos(x**2 + 0.6)**2/(sin(x**2 + 0.6) + 1.5)**2 + 0.4096*cos(0.8*x + 1.2) + 12*sin(x**2 + 0.6)*cos(0.8*x + 1.2)/(sin(x**2 + 0.6) + 1.5) + 7.68*cos(0.8*x + 1.2)*cos(x**2 + 0.6)/(sin(x**2 + 0.6) + 1.5) + 24*cos(0.8*x + 1.2)*cos(x**2 + 0.6)**2/(sin(x**2 + 0.6) + 1.5)**2)/(sin(x**2 + 0.6) + 1.5)\n"
     ]
    }
   ],
   "source": [
    "##Найдем производные 2 и 4 порядка для дальнйшей работы с ними\n",
    "print(sympy.diff(cos(0.8*x+1.2)/(1.5+sin(x**2+0.6)), x, x))\n",
    "#выводит (-0.01*sin(0.1*x + 1) - 0.2*cos(0.1*x + 1)/(x + 5) + 2*sin(0.1*x + 1)/(x + 5)**2)/(x + 5)\n",
    "print(sympy.diff(cos(0.8*x+1.2)/(1.5+sin(x**2+0.6)), x, x, x, x))\n",
    "#выводит (0.0001*sin(0.1*x + 1) + 0.004*cos(0.1*x + 1)/(x + 5) - 0.12*sin(0.1*x + 1)/(x + 5)**2 - 2.4*cos(0.1*x + 1)/(x + 5)**3 + 24*sin(0.1*x + 1)/(x + 5)**4)/(x + 5)"
   ]
  },
  {
   "cell_type": "code",
   "execution_count": 341,
   "metadata": {},
   "outputs": [],
   "source": [
    "##Строим графики"
   ]
  },
  {
   "cell_type": "code",
   "execution_count": 18,
   "metadata": {},
   "outputs": [
    {
     "data": {
      "image/png": "[encoded data removed]",
      "text/plain": [
       "<Figure size 432x288 with 1 Axes>"
      ]
     },
     "metadata": {
      "needs_background": "light"
     },
     "output_type": "display_data"
    }
   ],
   "source": [
    "#Производная 2-го порядка\n",
    "def func_d2(x):\n",
    "#     return (-0.01*sin(0.1*x + 1) - 0.2*cos(0.1*x + 1)/(x + 5) + 2*sin(0.1*x + 1)/(x + 5)**2)/(x + 5)\n",
    "    return (4*x**2*sin(x**2 + 0.6)*cos(0.8*x + 1.2)/(sin(x**2 + 0.6) + 1.5) + 8*x**2*cos(0.8*x + 1.2)*cos(x**2 + 0.6)**2/(sin(x**2 + 0.6) + 1.5)**2 + 3.2*x*sin(0.8*x + 1.2)*cos(x**2 + 0.6)/(sin(x**2 + 0.6) + 1.5) - 0.64*cos(0.8*x + 1.2) - 2*cos(0.8*x + 1.2)*cos(x**2 + 0.6)/(sin(x**2 + 0.6) + 1.5))/(sin(x**2 + 0.6) + 1.5)\n",
    "ylist_d2 = [func_d2(x) for x in xlist]\n",
    "pylab.plot(xlist, ylist_d2)\n",
    "plt.title('Производная 2-го порядка')\n",
    "pylab.show()"
   ]
  },
  {
   "cell_type": "code",
   "execution_count": 19,
   "metadata": {},
   "outputs": [
    {
     "data": {
      "image/png": "[encoded data removed]",
      "text/plain": [
       "<Figure size 432x288 with 1 Axes>"
      ]
     },
     "metadata": {
      "needs_background": "light"
     },
     "output_type": "display_data"
    }
   ],
   "source": [
    "#Производная 4-го порядка\n",
    "def func_d4 (x):\n",
    "    return (-16*x**4*sin(x**2 + 0.6)*cos(0.8*x + 1.2)/(sin(x**2 + 0.6) + 1.5) + 96*x**4*sin(x**2 + 0.6)**2*cos(0.8*x + 1.2)/(sin(x**2 + 0.6) + 1.5)**2 - 128*x**4*cos(0.8*x + 1.2)*cos(x**2 + 0.6)**2/(sin(x**2 + 0.6) + 1.5)**2 + 576*x**4*sin(x**2 + 0.6)*cos(0.8*x + 1.2)*cos(x**2 + 0.6)**2/(sin(x**2 + 0.6) + 1.5)**3 + 384*x**4*cos(0.8*x + 1.2)*cos(x**2 + 0.6)**4/(sin(x**2 + 0.6) + 1.5)**4 - 25.6*x**3*sin(0.8*x + 1.2)*cos(x**2 + 0.6)/(sin(x**2 + 0.6) + 1.5) + 153.6*x**3*sin(0.8*x + 1.2)*sin(x**2 + 0.6)*cos(x**2 + 0.6)/(sin(x**2 + 0.6) + 1.5)**2 + 153.6*x**3*sin(0.8*x + 1.2)*cos(x**2 + 0.6)**3/(sin(x**2 + 0.6) + 1.5)**3 - 15.36*x**2*sin(x**2 + 0.6)*cos(0.8*x + 1.2)/(sin(x**2 + 0.6) + 1.5) + 48*x**2*cos(0.8*x + 1.2)*cos(x**2 + 0.6)/(sin(x**2 + 0.6) + 1.5) - 288*x**2*sin(x**2 + 0.6)*cos(0.8*x + 1.2)*cos(x**2 + 0.6)/(sin(x**2 + 0.6) + 1.5)**2 - 30.72*x**2*cos(0.8*x + 1.2)*cos(x**2 + 0.6)**2/(sin(x**2 + 0.6) + 1.5)**2 - 288*x**2*cos(0.8*x + 1.2)*cos(x**2 + 0.6)**3/(sin(x**2 + 0.6) + 1.5)**3 - 38.4*x*sin(0.8*x + 1.2)*sin(x**2 + 0.6)/(sin(x**2 + 0.6) + 1.5) - 4.096*x*sin(0.8*x + 1.2)*cos(x**2 + 0.6)/(sin(x**2 + 0.6) + 1.5) - 76.8*x*sin(0.8*x + 1.2)*cos(x**2 + 0.6)**2/(sin(x**2 + 0.6) + 1.5)**2 + 0.4096*cos(0.8*x + 1.2) + 12*sin(x**2 + 0.6)*cos(0.8*x + 1.2)/(sin(x**2 + 0.6) + 1.5) + 7.68*cos(0.8*x + 1.2)*cos(x**2 + 0.6)/(sin(x**2 + 0.6) + 1.5) + 24*cos(0.8*x + 1.2)*cos(x**2 + 0.6)**2/(sin(x**2 + 0.6) + 1.5)**2)/(sin(x**2 + 0.6) + 1.5)\n",
    "#     return (0.0001*sin(0.1*x + 1) + 0.004*cos(0.1*x + 1)/(x + 5) - 0.12*sin(0.1*x + 1)/(x + 5)**2 - 2.4*cos(0.1*x + 1)/(x + 5)**3 + 24*sin(0.1*x + 1)/(x + 5)**4)/(x + 5)\n",
    "ylist_d4 = [func_d4(x) for x in xlist]\n",
    "pylab.plot(xlist, ylist_d4)\n",
    "plt.title('Производная 4-го порядка')\n",
    "pylab.show()"
   ]
  },
  {
   "cell_type": "markdown",
   "metadata": {},
   "source": [
    "## а) Определим количество интервалов, необходимых для расчета по методу трапеций"
   ]
  },
  {
   "cell_type": "code",
   "execution_count": 20,
   "metadata": {},
   "outputs": [
    {
     "ename": "AttributeError",
     "evalue": "'Mul' object has no attribute 'floor'",
     "output_type": "error",
     "traceback": [
      "\u001b[0;31m---------------------------------------------------------------------------\u001b[0m",
      "\u001b[0;31mAttributeError\u001b[0m                            Traceback (most recent call last)",
      "\u001b[0;32m<ipython-input-20-1647cdaf287d>\u001b[0m in \u001b[0;36m<module>\u001b[0;34m\u001b[0m\n\u001b[1;32m      1\u001b[0m \u001b[0;31m#Как видим своего максимума вторая производная достигает в начале отрезка [0;pi]\u001b[0m\u001b[0;34m\u001b[0m\u001b[0;34m\u001b[0m\u001b[0;34m\u001b[0m\u001b[0m\n\u001b[1;32m      2\u001b[0m \u001b[0;31m#найдем колв-во интервалов [n]=min{n1∈Z|n1>=n} по формуле погрешности 𝑅𝑡 =(𝑏−𝑎)^3/12𝑛^2|𝑓(2)𝑚𝑎𝑥(𝑧)|, 𝑧 ∈ [𝑎, 𝑏] , 𝑅𝑡 ≤ 10^−5\u001b[0m\u001b[0;34m\u001b[0m\u001b[0;34m\u001b[0m\u001b[0;34m\u001b[0m\u001b[0m\n\u001b[0;32m----> 3\u001b[0;31m \u001b[0miterations1\u001b[0m\u001b[0;34m=\u001b[0m\u001b[0mnp\u001b[0m\u001b[0;34m.\u001b[0m\u001b[0mfloor\u001b[0m\u001b[0;34m(\u001b[0m\u001b[0;34m(\u001b[0m\u001b[0;34m(\u001b[0m\u001b[0;36m10\u001b[0m\u001b[0;34m**\u001b[0m\u001b[0;36m5\u001b[0m\u001b[0;34m*\u001b[0m\u001b[0mmath\u001b[0m\u001b[0;34m.\u001b[0m\u001b[0mpi\u001b[0m\u001b[0;34m**\u001b[0m\u001b[0;36m3\u001b[0m\u001b[0;34m*\u001b[0m\u001b[0mfunc_d2\u001b[0m\u001b[0;34m(\u001b[0m\u001b[0;36m0\u001b[0m\u001b[0;34m)\u001b[0m\u001b[0;34m)\u001b[0m\u001b[0;34m/\u001b[0m\u001b[0;36m12\u001b[0m\u001b[0;34m)\u001b[0m\u001b[0;34m**\u001b[0m\u001b[0;34m(\u001b[0m\u001b[0;36m1\u001b[0m\u001b[0;34m/\u001b[0m\u001b[0;36m2\u001b[0m\u001b[0;34m)\u001b[0m\u001b[0;34m)\u001b[0m\u001b[0;34m\u001b[0m\u001b[0;34m\u001b[0m\u001b[0m\n\u001b[0m\u001b[1;32m      4\u001b[0m \u001b[0;31m#выводи 43, т.е. необходимо не менее 43 интервалов по методу трапеций для достижения заданной точности\u001b[0m\u001b[0;34m\u001b[0m\u001b[0;34m\u001b[0m\u001b[0;34m\u001b[0m\u001b[0m\n",
      "\u001b[0;31mAttributeError\u001b[0m: 'Mul' object has no attribute 'floor'"
     ]
    }
   ],
   "source": [
    "#Как видим своего максимума вторая производная достигает в начале отрезка [0;pi]\n",
    "#найдем колв-во интервалов [n]=min{n1∈Z|n1>=n} по формуле погрешности 𝑅𝑡 =(𝑏−𝑎)^3/12𝑛^2|𝑓(2)𝑚𝑎𝑥(𝑧)|, 𝑧 ∈ [𝑎, 𝑏] , 𝑅𝑡 ≤ 10^−5\n",
    "iterations1=np.floor(((10**5*math.pi**3*func_d2(0))/12)**(1/2))\n",
    "#выводи 43, т.е. необходимо не менее 43 интервалов по методу трапеций для достижения заданной точности"
   ]
  },
  {
   "cell_type": "markdown",
   "metadata": {},
   "source": [
    "## б) Определим количество интервалов, необходимых для расчета по методу Симпсона"
   ]
  },
  {
   "cell_type": "code",
   "execution_count": 17,
   "metadata": {},
   "outputs": [
    {
     "ename": "AttributeError",
     "evalue": "'Add' object has no attribute 'floor'",
     "output_type": "error",
     "traceback": [
      "\u001b[0;31m---------------------------------------------------------------------------\u001b[0m",
      "\u001b[0;31mAttributeError\u001b[0m                            Traceback (most recent call last)",
      "\u001b[0;32m<ipython-input-17-192de7a93c75>\u001b[0m in \u001b[0;36m<module>\u001b[0;34m\u001b[0m\n\u001b[1;32m      1\u001b[0m \u001b[0;31m#Как видим своего максимума четвертая производная достигает в начале отрезка [0;pi]\u001b[0m\u001b[0;34m\u001b[0m\u001b[0;34m\u001b[0m\u001b[0;34m\u001b[0m\u001b[0m\n\u001b[1;32m      2\u001b[0m \u001b[0;31m#найдем колв-во интервалов [n]=min{n1∈Z|n1>=n} по формуле погрешности 𝑅𝑡 =(𝑏−𝑎)^5/180𝑛^4|𝑓(4)𝑚𝑎𝑥(𝑧)|, 𝑧 ∈ [𝑎, 𝑏] , 𝑅𝑡 ≤ 10^−5\u001b[0m\u001b[0;34m\u001b[0m\u001b[0;34m\u001b[0m\u001b[0;34m\u001b[0m\u001b[0m\n\u001b[0;32m----> 3\u001b[0;31m \u001b[0miteratios2\u001b[0m\u001b[0;34m=\u001b[0m\u001b[0mnp\u001b[0m\u001b[0;34m.\u001b[0m\u001b[0mfloor\u001b[0m\u001b[0;34m(\u001b[0m\u001b[0;34m(\u001b[0m\u001b[0;34m(\u001b[0m\u001b[0;36m10\u001b[0m\u001b[0;34m**\u001b[0m\u001b[0;36m5\u001b[0m\u001b[0;34m*\u001b[0m\u001b[0mmath\u001b[0m\u001b[0;34m.\u001b[0m\u001b[0mpi\u001b[0m\u001b[0;34m**\u001b[0m\u001b[0;36m5\u001b[0m\u001b[0;34m*\u001b[0m\u001b[0mfunc_d2\u001b[0m\u001b[0;34m(\u001b[0m\u001b[0;36m0\u001b[0m\u001b[0;34m)\u001b[0m\u001b[0;34m)\u001b[0m\u001b[0;34m/\u001b[0m\u001b[0;36m180\u001b[0m\u001b[0;34m)\u001b[0m\u001b[0;34m**\u001b[0m\u001b[0;34m(\u001b[0m\u001b[0;36m1\u001b[0m\u001b[0;34m/\u001b[0m\u001b[0;36m4\u001b[0m\u001b[0;34m)\u001b[0m\u001b[0;34m)\u001b[0m\u001b[0;34m\u001b[0m\u001b[0;34m\u001b[0m\u001b[0m\n\u001b[0m\u001b[1;32m      4\u001b[0m \u001b[0;31m#выводи 5, т.е. необходимо не менее 5 интервалов по методу Симпсона для достижения заданной точности\u001b[0m\u001b[0;34m\u001b[0m\u001b[0;34m\u001b[0m\u001b[0;34m\u001b[0m\u001b[0m\n",
      "\u001b[0;31mAttributeError\u001b[0m: 'Add' object has no attribute 'floor'"
     ]
    }
   ],
   "source": [
    "#Как видим своего максимума четвертая производная достигает в начале отрезка [0;pi]\n",
    "#найдем колв-во интервалов [n]=min{n1∈Z|n1>=n} по формуле погрешности 𝑅𝑡 =(𝑏−𝑎)^5/180𝑛^4|𝑓(4)𝑚𝑎𝑥(𝑧)|, 𝑧 ∈ [𝑎, 𝑏] , 𝑅𝑡 ≤ 10^−5\n",
    "iteratios2=np.floor(((10**5*math.pi**5*func_d2(0))/180)**(1/4))\n",
    "#выводи 5, т.е. необходимо не менее 5 интервалов по методу Симпсона для достижения заданной точности"
   ]
  },
  {
   "cell_type": "code",
   "execution_count": 346,
   "metadata": {},
   "outputs": [],
   "source": [
    "## Найдем J методом трапеций"
   ]
  },
  {
   "cell_type": "code",
   "execution_count": 4,
   "metadata": {},
   "outputs": [
    {
     "name": "stdout",
     "output_type": "stream",
     "text": [
      "Интеграл вычисленный методом трапеций с функцией integrate.trapz =  1.4030367686064733\n"
     ]
    }
   ],
   "source": [
    "# Используем ранее созданные списки точек функции и воспользуемся функцией integrate.trapz\n",
    "print(\"Интеграл вычисленный методом трапеций с функцией integrate.trapz = \", scipy.integrate.trapz(ylist, xlist, dx, axis=-1))\n",
    "\n",
    "# # Также напишем свою функцию для того, чтобы вычислить с найденным ранее кол-вом итераций\n",
    "# def trapz_our(f, interval_begin, interval_end, iterations):\n",
    "#     step=(interval_end-interval_begin)/iterations\n",
    "#     integral = 0\n",
    "#     for i in range(1,iterations):\n",
    "#         integral +=2*f(step*i)\n",
    "#     integral += f(step*iterations)+f(0)\n",
    "#     integral*=step/2\n",
    "#     return integral\n",
    "\n",
    "# print(\"Интеграл вычисленный методом трапеций нашей функцией с 8 итерациями = \", trapz_our(func, float(0),float(math.pi),int(8)))\n",
    "# # Оценим ошибку для случая в 43 итерации\n",
    "# print(\"Ошибка для\", 8, \"итераций = \", (0.6**3/(12*4**2))*func_d2(0.6))"
   ]
  },
  {
   "cell_type": "code",
   "execution_count": 37,
   "metadata": {},
   "outputs": [
    {
     "name": "stdout",
     "output_type": "stream",
     "text": [
      "Интеграл вычисленный методом Симпсона с функцией integrate.simps =  -0.0263399689594394\n",
      "Интеграл вычисленный методом Симпсона с нашей функцией =  -1.63179413885699\n",
      "Ошибка для 4 итераций=  -4.37949861790890e-6\n"
     ]
    }
   ],
   "source": [
    "# Найдем J методом Симпсона с помощью функции integrate.simps\n",
    "print(\"Интеграл вычисленный методом Симпсона с функцией integrate.simps = \", scipy.integrate.simps(ylist, xlist, dx, axis=-1))\n",
    "\n",
    "# Найдем J методом Симпсона с указанием кол-ва интервалов с помощью нашей функции\n",
    "def simps_our(f,interval_begin, interval_end, iterations):\n",
    "    dx = (interval_end-interval_begin)/iterations   \n",
    "    x = np.linspace(interval_begin, interval_end, iterations+1)\n",
    "    sum1=0\n",
    "    sum2=0\n",
    "    for i in range(1,iterations):\n",
    "        if (i/2==i//2):\n",
    "            sum1+=f(x[i])\n",
    "        else:\n",
    "            sum2+=f(x[i])\n",
    "    integral=(dx/3)*(2*sum1+4*sum2+f(x[0])+f(x[iterations]))\n",
    "    return integral\n",
    "\n",
    "print(\"Интеграл вычисленный методом Симпсона с нашей функцией = \", simps_our(func, float(0),float(math.pi),int(2)))\n",
    "\n",
    "# Оценим ошибку для случая в 4 итерации\n",
    "print(\"Ошибка для 4 итераций= \", (0.6**5/(180*4**4))*func_d4(0.3))\n"
   ]
  },
  {
   "cell_type": "markdown",
   "metadata": {},
   "source": [
    "## Задание 2"
   ]
  },
  {
   "cell_type": "code",
   "execution_count": 349,
   "metadata": {},
   "outputs": [
    {
     "name": "stderr",
     "output_type": "stream",
     "text": [
      "/anaconda3/lib/python3.7/site-packages/ipykernel_launcher.py:12: MatplotlibDeprecationWarning: numpy.arange\n",
      "  if sys.path[0] == '':\n",
      "/anaconda3/lib/python3.7/site-packages/ipykernel_launcher.py:2: RuntimeWarning: invalid value encountered in double_scalars\n",
      "  \n",
      "/anaconda3/lib/python3.7/site-packages/ipykernel_launcher.py:4: RuntimeWarning: invalid value encountered in double_scalars\n",
      "  after removing the cwd from sys.path.\n"
     ]
    },
    {
     "data": {
      "image/png": "[encoded data removed]",
      "text/plain": [
       "<Figure size 432x288 with 1 Axes>"
      ]
     },
     "metadata": {
      "needs_background": "light"
     },
     "output_type": "display_data"
    }
   ],
   "source": [
    "def func(x):\n",
    "    return (1-(x**2)/((b+3)**2))**(1/2)\n",
    "def func1(x):\n",
    "    return -((1-(x**2)/((b+3)**2))**(1/2))\n",
    "#     return (x**2)/((b+3)**2)+y**2\n",
    "# Интервал изменения переменной по оси X\n",
    "xmin = -7\n",
    "xmax = 7\n",
    "# Шаг между точками\n",
    "dx = 0.01\n",
    "#Создадим список координат по оси X на отрезке [-xmin; xmax], включая концы\n",
    "xlist = mlab.frange(xmin, xmax, dx)\n",
    "# Вычислим значение функции в заданных точках\n",
    "ylist = [func(x) for x in xlist]\n",
    "ylist1 = [func1(x) for x in xlist]\n",
    "#Нарисуем наш график\n",
    "plt.ylim([-1, 1.05])\n",
    "pylab.plot(xlist, ylist, color=\"blue\")\n",
    "pylab.plot(xlist, ylist1, color=\"blue\")\n",
    "pylab.show()"
   ]
  },
  {
   "cell_type": "code",
   "execution_count": 351,
   "metadata": {},
   "outputs": [],
   "source": [
    "\n",
    "# Воспользуемся формулой длины дуги элипса и запишем функцию исхордного интеграла\n",
    "# def func(t, a, b):\n",
    "#     return ((a**2)*(sin(t))**2+(b**2)*(cos(t))**2)**(1/2)\n",
    "# dx = 0.01\n",
    "# tmin=0\n",
    "# tmax=(math.pi/2)\n",
    "# tlist = mlab.frange(tmin, tmax, dx)\n",
    "# ylist = [func(t,(b+3),1) for t in tlist]\n",
    "# pylab.plot(tlist, ylist, color=\"blue\")\n",
    "# pylab.show()\n",
    "# # Найдем искомый интеграл методом Ромберга с помощью функции integrate.romb\n",
    "# ylist1=(min(ylist), max(ylist), 65)\n",
    "# scipy.integrate.romb(ylist1, dx, axis=-1, show=False)"
   ]
  },
  {
   "cell_type": "markdown",
   "metadata": {},
   "source": [
    "## Задание 3"
   ]
  },
  {
   "cell_type": "markdown",
   "metadata": {},
   "source": [
    "## а) Вычислить значение y(x*) c помощью линейной интерполяции;"
   ]
  },
  {
   "cell_type": "code",
   "execution_count": 352,
   "metadata": {},
   "outputs": [
    {
     "name": "stdout",
     "output_type": "stream",
     "text": [
      "Значение y(x*), где x* =  0.15 , вычисленное при помощи линейной интерполяции =  0.01\n"
     ]
    }
   ],
   "source": [
    "d = {'x': [0,0.1,0.15,0.2,0.25,0.3,0.35], 'y': [0.02, 0.1,0.01,0.25,0.15,0.3,0.05]}\n",
    "df = pd.DataFrame(data=d)\n",
    "df\n",
    "# найдем x*=(N/20)(xn – xm), n = 6 - a, m = n –3\n",
    "n=6-a\n",
    "m=n-3\n",
    "x_q=(N/20)*(df.loc[n][\"x\"]-df.loc[m][\"x\"])\n",
    "print(\"Значение y(x*), где x* = \",x_q, \", вычисленное при помощи линейной интерполяции = \", np.interp(x_q, df[\"x\"], df[\"y\"]))"
   ]
  },
  {
   "cell_type": "code",
   "execution_count": 354,
   "metadata": {},
   "outputs": [
    {
     "name": "stdout",
     "output_type": "stream",
     "text": [
      "[ 2.00000000e-02  8.00000000e-01 -1.73333333e+01  4.16666667e+02\n",
      " -5.24000000e+03  4.54666667e+04 -3.20380952e+05]\n"
     ]
    }
   ],
   "source": [
    "import sys\n",
    "\n",
    "x=df[\"x\"].astype(float).tolist()\n",
    "y=df[\"y\"].astype(float).tolist()\n",
    "\n",
    "def coef(x, y):\n",
    "    n = len(x)\n",
    "    a = []\n",
    "    a1 = []\n",
    "    b=[]\n",
    "    \n",
    "    for i in range(n):\n",
    "        a.append(y[i])\n",
    "    for j in range(1, n):\n",
    "        for i in range(n-1, j-1, -1):\n",
    "#             while i+1<=j-1:\n",
    "            a[i] = float(a[i]-a[i-1])/float(x[i]-x[i-j])\n",
    "#                 a1[i]=float(a[i+1]-a[i])/float(x[i+1]-x[i])\n",
    "#     for j in range(1, n):\n",
    "#         for i in range(n-1, j-1, -1):\n",
    "#             while i+1<=j-1:\n",
    "#                 b[i]=(list(set(a1) - set(a)))/float(a[i+1]-a[i-1])\n",
    "    return np.array(a) \n",
    "\n",
    "# def Eval(a, x, r):\n",
    "#     n = len( a ) - 1\n",
    "#     temp = a[n]\n",
    "#     for i in range( n - 1, -1, -1 ):\n",
    "#         temp = temp * ( r - x[i] ) + a[i]\n",
    "#     return temp # return the y_value interpolation\n",
    "\n",
    "a=coef(x,y)\n",
    "print(\"Значения интерполяционноного полинома Ньютона 1-го порядка= \", a)\n",
    "print(\"Значения интерполяционноного полинома Ньютона 1-го порядка в точки x*= \", Eval(a,x,0.03))"
   ]
  },
  {
   "cell_type": "code",
   "execution_count": null,
   "metadata": {},
   "outputs": [],
   "source": []
  },
  {
   "cell_type": "code",
   "execution_count": 28,
   "metadata": {},
   "outputs": [
    {
     "ename": "TypeError",
     "evalue": "unsupported operand type(s) for /: 'float' and 'tuple'",
     "output_type": "error",
     "traceback": [
      "\u001b[0;31m---------------------------------------------------------------------------\u001b[0m",
      "\u001b[0;31mTypeError\u001b[0m                                 Traceback (most recent call last)",
      "\u001b[0;32m<ipython-input-28-336c37db7980>\u001b[0m in \u001b[0;36m<module>\u001b[0;34m\u001b[0m\n\u001b[0;32m----> 1\u001b[0;31m \u001b[0;34m(\u001b[0m\u001b[0;36m0.99\u001b[0m\u001b[0;34m)\u001b[0m\u001b[0;34m/\u001b[0m\u001b[0;34m(\u001b[0m\u001b[0;36m1\u001b[0m\u001b[0;34m,\u001b[0m\u001b[0;36m5\u001b[0m\u001b[0;34m+\u001b[0m\u001b[0;36m0.012\u001b[0m\u001b[0;34m)\u001b[0m\u001b[0;34m\u001b[0m\u001b[0;34m\u001b[0m\u001b[0m\n\u001b[0m",
      "\u001b[0;31mTypeError\u001b[0m: unsupported operand type(s) for /: 'float' and 'tuple'"
     ]
    }
   ],
   "source": [
    "(0.99)/(1,5+0.012)"
   ]
  },
  {
   "cell_type": "code",
   "execution_count": null,
   "metadata": {},
   "outputs": [],
   "source": []
  }
 ],
 "metadata": {
  "kernelspec": {
   "display_name": "Python 3",
   "language": "python",
   "name": "python3"
  },
  "language_info": {
   "codemirror_mode": {
    "name": "ipython",
    "version": 3
   },
   "file_extension": ".py",
   "mimetype": "text/x-python",
   "name": "python",
   "nbconvert_exporter": "python",
   "pygments_lexer": "ipython3",
   "version": "3.7.3"
  }
 },
 "nbformat": 4,
 "nbformat_minor": 2
}
